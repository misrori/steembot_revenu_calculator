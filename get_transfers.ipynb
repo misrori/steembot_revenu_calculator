{
 "cells": [
  {
   "cell_type": "code",
   "execution_count": 12,
   "metadata": {
    "collapsed": false,
    "scrolled": true
   },
   "outputs": [
    {
     "name": "stdout",
     "output_type": "stream",
     "text": [
      "-f\n",
      "0\n",
      "1000\n",
      "2000\n",
      "3000\n"
     ]
    },
    {
     "name": "stderr",
     "output_type": "stream",
     "text": [
      "/home/misrori/anaconda3/lib/python3.5/site-packages/ipykernel/__main__.py:27: SettingWithCopyWarning: \n",
      "A value is trying to be set on a copy of a slice from a DataFrame.\n",
      "Try using .loc[row_indexer,col_indexer] = value instead\n",
      "\n",
      "See the caveats in the documentation: http://pandas.pydata.org/pandas-docs/stable/indexing.html#indexing-view-versus-copy\n",
      "/home/misrori/anaconda3/lib/python3.5/site-packages/ipykernel/__main__.py:60: SettingWithCopyWarning: \n",
      "A value is trying to be set on a copy of a slice from a DataFrame.\n",
      "Try using .loc[row_indexer,col_indexer] = value instead\n",
      "\n",
      "See the caveats in the documentation: http://pandas.pydata.org/pandas-docs/stable/indexing.html#indexing-view-versus-copy\n"
     ]
    }
   ],
   "source": [
    "from steemdata import SteemData\n",
    "import datetime\n",
    "import pandas as pd\n",
    "import requests\n",
    "import sys\n",
    "s = SteemData()\n",
    "\n",
    "\n",
    "name = sys.argv[1]\n",
    "print(name)\n",
    "name= \"minnowvotes\"\n",
    "def get_prices():\n",
    "    \n",
    "    r = requests.get('https://min-api.cryptocompare.com/data/histohour?fsym=STEEM&tsym=USD&limit=2000')\n",
    "    adat= (r.json()) \n",
    "    price_data =pd.DataFrame(adat[\"Data\"])\n",
    "    price_data['time'] = pd.to_datetime(price_data['time'],unit='s')\n",
    "    price_data.head()\n",
    "    price_data['steem_price'] = price_data[[\"high\", \"low\"]].mean(axis=1)\n",
    "    my_prices = price_data[['steem_price', 'time']]\n",
    "\n",
    "    r = requests.get('https://min-api.cryptocompare.com/data/histohour?fsym=SBD&tsym=USD&limit=2000')\n",
    "    adat_sbd= (r.json()) \n",
    "    price_sbd=pd.DataFrame(adat_sbd[\"Data\"])\n",
    "    price_sbd['time'] = pd.to_datetime(price_sbd['time'],unit='s')\n",
    "\n",
    "    my_prices[\"sbd_price\"]= price_sbd[[\"high\", \"low\"]].mean(axis=1)\n",
    "    my_prices= my_prices[['steem_price', \"sbd_price\", \"time\"]]\n",
    "    return(my_prices)\n",
    "\n",
    "\n",
    "def get_all_transfer(name):\n",
    "    \n",
    "    all_df = pd.DataFrame()\n",
    "    hosz = s.Operations.find({\"type\": \"transfer\", \"to\": name})\n",
    "    eddig=hosz.count()\n",
    "    for i in range(0,eddig,1000):\n",
    "        print(i)\n",
    "        adat = s.Operations.find({\"type\": \"transfer\", \"to\": name},\n",
    "                                 {\"_id\":0,\"from\":1,\"timestamp\":1, 'amount':1}\n",
    "\n",
    "                                ).limit(1000).skip(i)\n",
    "\n",
    "        df = pd.DataFrame(list(adat))\n",
    "        df[\"money\"]= list(map(lambda x: x['amount'], df['amount']))\n",
    "        df[\"asset\"]= list(map(lambda x: x['asset'], df['amount']))\n",
    "        df = df[[\"from\", \"timestamp\", \"money\", \"asset\"]]\n",
    "\n",
    "        all_df = all_df.append(df, ignore_index=True)\n",
    "    return(all_df)\n",
    "    \n",
    "    \n",
    "\n",
    "all_transfer = get_all_transfer(name)\n",
    "all_transfer['timestamp'] = all_transfer['timestamp'].apply(lambda dt: datetime.datetime(dt.year, dt.month, dt.day, dt.hour))\n",
    "\n",
    "\n",
    "price_data = get_prices()\n",
    "\n",
    "eredemeny_df = all_transfer.merge(price_data, left_on='timestamp', right_on='time', how='left')\n",
    "blacklist= ['cuttie1979', \"blocktrades\"]\n",
    "eredmeny_df = eredemeny_df[eredemeny_df[\"from\"].isin(blacklist)==False]\n",
    "eredmeny_df[\"to\"]= name\n",
    "\n",
    "eredmeny_df.to_csv(\"/home/misrori/R_kodok/steembot_revenu_calculator/tmp.csv\", index=False)"
   ]
  },
  {
   "cell_type": "code",
   "execution_count": 15,
   "metadata": {
    "collapsed": false
   },
   "outputs": [
    {
     "name": "stdout",
     "output_type": "stream",
     "text": [
      "0\n",
      "1000\n",
      "2000\n",
      "3000\n"
     ]
    },
    {
     "name": "stderr",
     "output_type": "stream",
     "text": [
      "/home/misrori/anaconda3/lib/python3.5/site-packages/ipykernel/__main__.py:27: SettingWithCopyWarning: \n",
      "A value is trying to be set on a copy of a slice from a DataFrame.\n",
      "Try using .loc[row_indexer,col_indexer] = value instead\n",
      "\n",
      "See the caveats in the documentation: http://pandas.pydata.org/pandas-docs/stable/indexing.html#indexing-view-versus-copy\n"
     ]
    }
   ],
   "source": [
    "all_transfer = get_all_transfer(name)\n",
    "price_data = get_prices()"
   ]
  },
  {
   "cell_type": "code",
   "execution_count": 18,
   "metadata": {
    "collapsed": false
   },
   "outputs": [
    {
     "ename": "TypeError",
     "evalue": "replace() got an unexpected keyword argument 'microsecond'",
     "output_type": "error",
     "traceback": [
      "\u001b[1;31m---------------------------------------------------------------------------\u001b[0m",
      "\u001b[1;31mTypeError\u001b[0m                                 Traceback (most recent call last)",
      "\u001b[1;32m<ipython-input-18-66efee562ae0>\u001b[0m in \u001b[0;36m<module>\u001b[1;34m()\u001b[0m\n\u001b[1;32m----> 1\u001b[1;33m \u001b[0mall_transfer\u001b[0m\u001b[1;33m[\u001b[0m\u001b[1;34m\"timestamp\"\u001b[0m\u001b[1;33m]\u001b[0m\u001b[1;33m.\u001b[0m\u001b[0mreplace\u001b[0m\u001b[1;33m(\u001b[0m\u001b[0mmicrosecond\u001b[0m\u001b[1;33m=\u001b[0m\u001b[1;36m0\u001b[0m\u001b[1;33m,\u001b[0m\u001b[0msecond\u001b[0m\u001b[1;33m=\u001b[0m\u001b[1;36m0\u001b[0m\u001b[1;33m,\u001b[0m\u001b[0mminute\u001b[0m\u001b[1;33m=\u001b[0m\u001b[1;36m0\u001b[0m\u001b[1;33m)\u001b[0m\u001b[1;33m\u001b[0m\u001b[0m\n\u001b[0m",
      "\u001b[1;31mTypeError\u001b[0m: replace() got an unexpected keyword argument 'microsecond'"
     ]
    }
   ],
   "source": [
    "all_transfer[\"timestamp\"].replace(microsecond=0,second=0,minute=0)"
   ]
  },
  {
   "cell_type": "code",
   "execution_count": 20,
   "metadata": {
    "collapsed": false
   },
   "outputs": [
    {
     "data": {
      "text/plain": [
       "0      2018-01-01 19:00:00\n",
       "1      2018-01-01 19:00:00\n",
       "2      2018-01-01 20:00:00\n",
       "3      2018-01-01 21:00:00\n",
       "4      2018-01-02 00:00:00\n",
       "5      2018-01-02 08:00:00\n",
       "6      2018-01-02 08:00:00\n",
       "7      2018-01-02 11:00:00\n",
       "8      2018-01-02 13:00:00\n",
       "9      2018-01-02 15:00:00\n",
       "10     2018-01-02 15:00:00\n",
       "11     2018-01-02 16:00:00\n",
       "12     2018-01-02 16:00:00\n",
       "13     2018-01-02 17:00:00\n",
       "14     2018-01-02 17:00:00\n",
       "15     2018-01-02 17:00:00\n",
       "16     2018-01-02 17:00:00\n",
       "17     2018-01-02 17:00:00\n",
       "18     2018-01-02 18:00:00\n",
       "19     2018-01-02 19:00:00\n",
       "20     2018-01-02 19:00:00\n",
       "21     2018-01-02 19:00:00\n",
       "22     2018-01-02 20:00:00\n",
       "23     2018-01-02 20:00:00\n",
       "24     2018-01-02 20:00:00\n",
       "25     2018-01-02 21:00:00\n",
       "26     2018-01-02 21:00:00\n",
       "27     2018-01-02 22:00:00\n",
       "28     2018-01-02 22:00:00\n",
       "29     2018-01-02 23:00:00\n",
       "               ...        \n",
       "3411   2018-02-04 13:00:00\n",
       "3412   2018-02-04 13:00:00\n",
       "3413   2018-02-04 13:00:00\n",
       "3414   2018-02-04 13:00:00\n",
       "3415   2018-02-04 13:00:00\n",
       "3416   2018-02-04 13:00:00\n",
       "3417   2018-02-04 13:00:00\n",
       "3418   2018-02-04 13:00:00\n",
       "3419   2018-02-04 14:00:00\n",
       "3420   2018-02-04 14:00:00\n",
       "3421   2018-02-04 14:00:00\n",
       "3422   2018-02-04 14:00:00\n",
       "3423   2018-02-04 15:00:00\n",
       "3424   2018-02-04 15:00:00\n",
       "3425   2018-02-04 15:00:00\n",
       "3426   2018-02-04 16:00:00\n",
       "3427   2018-02-04 16:00:00\n",
       "3428   2018-02-04 16:00:00\n",
       "3429   2018-02-04 16:00:00\n",
       "3430   2018-02-04 16:00:00\n",
       "3431   2018-02-04 16:00:00\n",
       "3432   2018-02-04 16:00:00\n",
       "3433   2018-02-04 16:00:00\n",
       "3434   2018-02-04 16:00:00\n",
       "3435   2018-02-04 16:00:00\n",
       "3436   2018-02-04 17:00:00\n",
       "3437   2018-02-04 17:00:00\n",
       "3438   2018-02-04 17:00:00\n",
       "3439   2018-02-04 18:00:00\n",
       "3440   2018-02-04 18:00:00\n",
       "Name: timestamp, dtype: datetime64[ns]"
      ]
     },
     "execution_count": 20,
     "metadata": {},
     "output_type": "execute_result"
    }
   ],
   "source": [
    "all_transfer['timestamp'].apply(lambda dt: datetime.datetime(dt.year, dt.month, dt.day, dt.hour))\n"
   ]
  },
  {
   "cell_type": "code",
   "execution_count": null,
   "metadata": {
    "collapsed": true
   },
   "outputs": [],
   "source": []
  },
  {
   "cell_type": "code",
   "execution_count": null,
   "metadata": {
    "collapsed": true
   },
   "outputs": [],
   "source": []
  },
  {
   "cell_type": "code",
   "execution_count": null,
   "metadata": {
    "collapsed": true
   },
   "outputs": [],
   "source": []
  },
  {
   "cell_type": "code",
   "execution_count": null,
   "metadata": {
    "collapsed": true
   },
   "outputs": [],
   "source": []
  },
  {
   "cell_type": "code",
   "execution_count": 20,
   "metadata": {
    "collapsed": false
   },
   "outputs": [],
   "source": []
  }
 ],
 "metadata": {
  "kernelspec": {
   "display_name": "Python 3",
   "language": "python",
   "name": "python3"
  },
  "language_info": {
   "codemirror_mode": {
    "name": "ipython",
    "version": 3
   },
   "file_extension": ".py",
   "mimetype": "text/x-python",
   "name": "python",
   "nbconvert_exporter": "python",
   "pygments_lexer": "ipython3",
   "version": "3.5.1"
  }
 },
 "nbformat": 4,
 "nbformat_minor": 0
}
